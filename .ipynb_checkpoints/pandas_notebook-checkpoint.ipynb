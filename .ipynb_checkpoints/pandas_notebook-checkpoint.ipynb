{
 "cells": [
  {
   "cell_type": "code",
   "execution_count": 38,
   "id": "initial_id",
   "metadata": {
    "collapsed": true,
    "ExecuteTime": {
     "end_time": "2024-02-24T12:36:50.602684Z",
     "start_time": "2024-02-24T12:36:50.598429Z"
    }
   },
   "outputs": [],
   "source": [
    "import pandas as pd"
   ]
  },
  {
   "cell_type": "markdown",
   "source": [
    "# 1. Load the dataset into a Pandas DataFrame."
   ],
   "metadata": {
    "collapsed": false
   },
   "id": "f03cdec60521346a"
  },
  {
   "cell_type": "code",
   "outputs": [],
   "source": [
    "df = pd.read_csv('restaurant_reviews.csv')"
   ],
   "metadata": {
    "collapsed": false,
    "ExecuteTime": {
     "end_time": "2024-02-24T12:39:03.679333Z",
     "start_time": "2024-02-24T12:39:03.671711Z"
    }
   },
   "id": "70b721348f3d1b3c",
   "execution_count": 45
  },
  {
   "cell_type": "markdown",
   "source": [
    "# 2. Display the first 10 rows of the dataset."
   ],
   "metadata": {
    "collapsed": false
   },
   "id": "78b00970605548e2"
  },
  {
   "cell_type": "code",
   "outputs": [
    {
     "data": {
      "text/plain": "   id      restaurant_name        reviewer_name  \\\n0   0                Буфет         Тереза Дубас   \n1   1                 Sowa      Тереза Демʼянюк   \n2   2             Всі свої    Богуслава Чуприна   \n3   3                 Sowa       Ярина Рябченко   \n4   4              Реберня  Богуслава Данькевич   \n5   5                Колос       Маруся Аронець   \n6   6              Домашка      Микита Єсипенко   \n7   7  Львівська майстерня      Роксолана Дацюк   \n8   8          Пузата хата         Аліна Тригуб   \n9   9          Пузата хата         Андрій Артим   \n\n                                     review_text  rating date_of_visit  \\\n0     Не вражений обслуговуванням та якістю їжі.       4    2022-09-13   \n1              Смачні страви за доступною ціною.       5    2023-06-23   \n2     Не вражений обслуговуванням та якістю їжі.       5    2023-07-08   \n3     Чудова атмосфера та швидке обслуговування.       5    2023-09-22   \n4   Невідповідний сервіс та дорогі ціни на меню.       5    2022-12-17   \n5       Дуже смачна кухня та привітний персонал.       4    2023-06-02   \n6    Швидке приготування та гарний вигляд страв.       4    2023-02-20   \n7         Рекомендую це місце для гарного вечора       2    2022-07-30   \n8  Завжди свіжі продукти та широкий вибір страв.       2    2023-12-20   \n9     Не вражений обслуговуванням та якістю їжі.       1    2023-05-16   \n\n      location  \n0       Сніжне  \n1     Селидове  \n2        Хотин  \n3    Білопілля  \n4  Амвросіївка  \n5      Глобине  \n6  Первомайськ  \n7      Алмазна  \n8    Волочиськ  \n9     Борислав  ",
      "text/html": "<div>\n<style scoped>\n    .dataframe tbody tr th:only-of-type {\n        vertical-align: middle;\n    }\n\n    .dataframe tbody tr th {\n        vertical-align: top;\n    }\n\n    .dataframe thead th {\n        text-align: right;\n    }\n</style>\n<table border=\"1\" class=\"dataframe\">\n  <thead>\n    <tr style=\"text-align: right;\">\n      <th></th>\n      <th>id</th>\n      <th>restaurant_name</th>\n      <th>reviewer_name</th>\n      <th>review_text</th>\n      <th>rating</th>\n      <th>date_of_visit</th>\n      <th>location</th>\n    </tr>\n  </thead>\n  <tbody>\n    <tr>\n      <th>0</th>\n      <td>0</td>\n      <td>Буфет</td>\n      <td>Тереза Дубас</td>\n      <td>Не вражений обслуговуванням та якістю їжі.</td>\n      <td>4</td>\n      <td>2022-09-13</td>\n      <td>Сніжне</td>\n    </tr>\n    <tr>\n      <th>1</th>\n      <td>1</td>\n      <td>Sowa</td>\n      <td>Тереза Демʼянюк</td>\n      <td>Смачні страви за доступною ціною.</td>\n      <td>5</td>\n      <td>2023-06-23</td>\n      <td>Селидове</td>\n    </tr>\n    <tr>\n      <th>2</th>\n      <td>2</td>\n      <td>Всі свої</td>\n      <td>Богуслава Чуприна</td>\n      <td>Не вражений обслуговуванням та якістю їжі.</td>\n      <td>5</td>\n      <td>2023-07-08</td>\n      <td>Хотин</td>\n    </tr>\n    <tr>\n      <th>3</th>\n      <td>3</td>\n      <td>Sowa</td>\n      <td>Ярина Рябченко</td>\n      <td>Чудова атмосфера та швидке обслуговування.</td>\n      <td>5</td>\n      <td>2023-09-22</td>\n      <td>Білопілля</td>\n    </tr>\n    <tr>\n      <th>4</th>\n      <td>4</td>\n      <td>Реберня</td>\n      <td>Богуслава Данькевич</td>\n      <td>Невідповідний сервіс та дорогі ціни на меню.</td>\n      <td>5</td>\n      <td>2022-12-17</td>\n      <td>Амвросіївка</td>\n    </tr>\n    <tr>\n      <th>5</th>\n      <td>5</td>\n      <td>Колос</td>\n      <td>Маруся Аронець</td>\n      <td>Дуже смачна кухня та привітний персонал.</td>\n      <td>4</td>\n      <td>2023-06-02</td>\n      <td>Глобине</td>\n    </tr>\n    <tr>\n      <th>6</th>\n      <td>6</td>\n      <td>Домашка</td>\n      <td>Микита Єсипенко</td>\n      <td>Швидке приготування та гарний вигляд страв.</td>\n      <td>4</td>\n      <td>2023-02-20</td>\n      <td>Первомайськ</td>\n    </tr>\n    <tr>\n      <th>7</th>\n      <td>7</td>\n      <td>Львівська майстерня</td>\n      <td>Роксолана Дацюк</td>\n      <td>Рекомендую це місце для гарного вечора</td>\n      <td>2</td>\n      <td>2022-07-30</td>\n      <td>Алмазна</td>\n    </tr>\n    <tr>\n      <th>8</th>\n      <td>8</td>\n      <td>Пузата хата</td>\n      <td>Аліна Тригуб</td>\n      <td>Завжди свіжі продукти та широкий вибір страв.</td>\n      <td>2</td>\n      <td>2023-12-20</td>\n      <td>Волочиськ</td>\n    </tr>\n    <tr>\n      <th>9</th>\n      <td>9</td>\n      <td>Пузата хата</td>\n      <td>Андрій Артим</td>\n      <td>Не вражений обслуговуванням та якістю їжі.</td>\n      <td>1</td>\n      <td>2023-05-16</td>\n      <td>Борислав</td>\n    </tr>\n  </tbody>\n</table>\n</div>"
     },
     "execution_count": 46,
     "metadata": {},
     "output_type": "execute_result"
    }
   ],
   "source": [
    "df.head(10)"
   ],
   "metadata": {
    "collapsed": false,
    "ExecuteTime": {
     "end_time": "2024-02-24T12:39:04.456527Z",
     "start_time": "2024-02-24T12:39:04.452853Z"
    }
   },
   "id": "e3d4235edc14f75d",
   "execution_count": 46
  },
  {
   "cell_type": "markdown",
   "source": [
    "# 3. Set the 'id' column as the index of the dataframe"
   ],
   "metadata": {
    "collapsed": false
   },
   "id": "8c2c6141ac464d84"
  },
  {
   "cell_type": "code",
   "outputs": [],
   "source": [
    "df.set_index('id', inplace=True)"
   ],
   "metadata": {
    "collapsed": false,
    "ExecuteTime": {
     "end_time": "2024-02-24T12:39:05.097738Z",
     "start_time": "2024-02-24T12:39:05.094540Z"
    }
   },
   "id": "4f4502bd4a602c82",
   "execution_count": 47
  },
  {
   "cell_type": "code",
   "outputs": [
    {
     "data": {
      "text/plain": "        restaurant_name        reviewer_name  \\\nid                                             \n0                 Буфет         Тереза Дубас   \n1                  Sowa      Тереза Демʼянюк   \n2              Всі свої    Богуслава Чуприна   \n3                  Sowa       Ярина Рябченко   \n4               Реберня  Богуслава Данькевич   \n5                 Колос       Маруся Аронець   \n6               Домашка      Микита Єсипенко   \n7   Львівська майстерня      Роксолана Дацюк   \n8           Пузата хата         Аліна Тригуб   \n9           Пузата хата         Андрій Артим   \n\n                                      review_text  rating date_of_visit  \\\nid                                                                        \n0      Не вражений обслуговуванням та якістю їжі.       4    2022-09-13   \n1               Смачні страви за доступною ціною.       5    2023-06-23   \n2      Не вражений обслуговуванням та якістю їжі.       5    2023-07-08   \n3      Чудова атмосфера та швидке обслуговування.       5    2023-09-22   \n4    Невідповідний сервіс та дорогі ціни на меню.       5    2022-12-17   \n5        Дуже смачна кухня та привітний персонал.       4    2023-06-02   \n6     Швидке приготування та гарний вигляд страв.       4    2023-02-20   \n7          Рекомендую це місце для гарного вечора       2    2022-07-30   \n8   Завжди свіжі продукти та широкий вибір страв.       2    2023-12-20   \n9      Не вражений обслуговуванням та якістю їжі.       1    2023-05-16   \n\n       location  \nid               \n0        Сніжне  \n1      Селидове  \n2         Хотин  \n3     Білопілля  \n4   Амвросіївка  \n5       Глобине  \n6   Первомайськ  \n7       Алмазна  \n8     Волочиськ  \n9      Борислав  ",
      "text/html": "<div>\n<style scoped>\n    .dataframe tbody tr th:only-of-type {\n        vertical-align: middle;\n    }\n\n    .dataframe tbody tr th {\n        vertical-align: top;\n    }\n\n    .dataframe thead th {\n        text-align: right;\n    }\n</style>\n<table border=\"1\" class=\"dataframe\">\n  <thead>\n    <tr style=\"text-align: right;\">\n      <th></th>\n      <th>restaurant_name</th>\n      <th>reviewer_name</th>\n      <th>review_text</th>\n      <th>rating</th>\n      <th>date_of_visit</th>\n      <th>location</th>\n    </tr>\n    <tr>\n      <th>id</th>\n      <th></th>\n      <th></th>\n      <th></th>\n      <th></th>\n      <th></th>\n      <th></th>\n    </tr>\n  </thead>\n  <tbody>\n    <tr>\n      <th>0</th>\n      <td>Буфет</td>\n      <td>Тереза Дубас</td>\n      <td>Не вражений обслуговуванням та якістю їжі.</td>\n      <td>4</td>\n      <td>2022-09-13</td>\n      <td>Сніжне</td>\n    </tr>\n    <tr>\n      <th>1</th>\n      <td>Sowa</td>\n      <td>Тереза Демʼянюк</td>\n      <td>Смачні страви за доступною ціною.</td>\n      <td>5</td>\n      <td>2023-06-23</td>\n      <td>Селидове</td>\n    </tr>\n    <tr>\n      <th>2</th>\n      <td>Всі свої</td>\n      <td>Богуслава Чуприна</td>\n      <td>Не вражений обслуговуванням та якістю їжі.</td>\n      <td>5</td>\n      <td>2023-07-08</td>\n      <td>Хотин</td>\n    </tr>\n    <tr>\n      <th>3</th>\n      <td>Sowa</td>\n      <td>Ярина Рябченко</td>\n      <td>Чудова атмосфера та швидке обслуговування.</td>\n      <td>5</td>\n      <td>2023-09-22</td>\n      <td>Білопілля</td>\n    </tr>\n    <tr>\n      <th>4</th>\n      <td>Реберня</td>\n      <td>Богуслава Данькевич</td>\n      <td>Невідповідний сервіс та дорогі ціни на меню.</td>\n      <td>5</td>\n      <td>2022-12-17</td>\n      <td>Амвросіївка</td>\n    </tr>\n    <tr>\n      <th>5</th>\n      <td>Колос</td>\n      <td>Маруся Аронець</td>\n      <td>Дуже смачна кухня та привітний персонал.</td>\n      <td>4</td>\n      <td>2023-06-02</td>\n      <td>Глобине</td>\n    </tr>\n    <tr>\n      <th>6</th>\n      <td>Домашка</td>\n      <td>Микита Єсипенко</td>\n      <td>Швидке приготування та гарний вигляд страв.</td>\n      <td>4</td>\n      <td>2023-02-20</td>\n      <td>Первомайськ</td>\n    </tr>\n    <tr>\n      <th>7</th>\n      <td>Львівська майстерня</td>\n      <td>Роксолана Дацюк</td>\n      <td>Рекомендую це місце для гарного вечора</td>\n      <td>2</td>\n      <td>2022-07-30</td>\n      <td>Алмазна</td>\n    </tr>\n    <tr>\n      <th>8</th>\n      <td>Пузата хата</td>\n      <td>Аліна Тригуб</td>\n      <td>Завжди свіжі продукти та широкий вибір страв.</td>\n      <td>2</td>\n      <td>2023-12-20</td>\n      <td>Волочиськ</td>\n    </tr>\n    <tr>\n      <th>9</th>\n      <td>Пузата хата</td>\n      <td>Андрій Артим</td>\n      <td>Не вражений обслуговуванням та якістю їжі.</td>\n      <td>1</td>\n      <td>2023-05-16</td>\n      <td>Борислав</td>\n    </tr>\n  </tbody>\n</table>\n</div>"
     },
     "execution_count": 48,
     "metadata": {},
     "output_type": "execute_result"
    }
   ],
   "source": [
    "df.head(10)"
   ],
   "metadata": {
    "collapsed": false,
    "ExecuteTime": {
     "end_time": "2024-02-24T12:39:05.495975Z",
     "start_time": "2024-02-24T12:39:05.491970Z"
    }
   },
   "id": "43e50f5cfea55e53",
   "execution_count": 48
  },
  {
   "cell_type": "markdown",
   "source": [
    "# 4. Check for missing values"
   ],
   "metadata": {
    "collapsed": false
   },
   "id": "8ad739e009540a85"
  },
  {
   "cell_type": "code",
   "outputs": [
    {
     "name": "stdout",
     "output_type": "stream",
     "text": [
      "Missing Values:\n",
      "restaurant_name    0\n",
      "reviewer_name      0\n",
      "review_text        0\n",
      "rating             0\n",
      "date_of_visit      0\n",
      "location           0\n",
      "dtype: int64\n"
     ]
    }
   ],
   "source": [
    "missing_values = df.isnull().sum()\n",
    "print(\"Missing Values:\")\n",
    "print(missing_values)"
   ],
   "metadata": {
    "collapsed": false,
    "ExecuteTime": {
     "end_time": "2024-02-24T12:39:06.240041Z",
     "start_time": "2024-02-24T12:39:06.236534Z"
    }
   },
   "id": "2ef8121fec37f077",
   "execution_count": 49
  },
  {
   "cell_type": "markdown",
   "source": [
    "# 5. Ensure all ratings are within the 1 to 5 range"
   ],
   "metadata": {
    "collapsed": false
   },
   "id": "9b37249f1813d577"
  },
  {
   "cell_type": "markdown",
   "source": [
    "# 5.1. Count the number of rows with rating values outside the range [1, 5]"
   ],
   "metadata": {
    "collapsed": false
   },
   "id": "64c29e6332c8897f"
  },
  {
   "cell_type": "code",
   "outputs": [
    {
     "name": "stdout",
     "output_type": "stream",
     "text": [
      "Number of rows with invalid rating values: 5\n"
     ]
    }
   ],
   "source": [
    "invalid_ratings_count = ((df['rating'] < 1) | (df['rating'] > 5)).sum()\n",
    "print(f\"Number of rows with invalid rating values: {invalid_ratings_count}\")"
   ],
   "metadata": {
    "collapsed": false,
    "ExecuteTime": {
     "end_time": "2024-02-24T12:39:07.622336Z",
     "start_time": "2024-02-24T12:39:07.618656Z"
    }
   },
   "id": "c2e9a58e6cd2790d",
   "execution_count": 50
  },
  {
   "cell_type": "markdown",
   "source": [
    "# 5.2. Calculate the median rating"
   ],
   "metadata": {
    "collapsed": false
   },
   "id": "fbd14e7774407146"
  },
  {
   "cell_type": "code",
   "outputs": [
    {
     "name": "stdout",
     "output_type": "stream",
     "text": [
      "3.0\n"
     ]
    }
   ],
   "source": [
    "median_rating = df['rating'].median()\n",
    "print(median_rating)"
   ],
   "metadata": {
    "collapsed": false,
    "ExecuteTime": {
     "end_time": "2024-02-24T12:39:08.647132Z",
     "start_time": "2024-02-24T12:39:08.644603Z"
    }
   },
   "id": "9e01f98b43fa8ca8",
   "execution_count": 51
  },
  {
   "cell_type": "markdown",
   "source": [
    "# 5.3. Replace invalid ratings with the median value"
   ],
   "metadata": {
    "collapsed": false
   },
   "id": "c966664abd45cdd5"
  },
  {
   "cell_type": "code",
   "outputs": [],
   "source": [
    "df['rating'] = df['rating'].clip(1, 5).replace({0: median_rating})"
   ],
   "metadata": {
    "collapsed": false,
    "ExecuteTime": {
     "end_time": "2024-02-24T12:39:09.918454Z",
     "start_time": "2024-02-24T12:39:09.912805Z"
    }
   },
   "id": "7c736186ef517317",
   "execution_count": 52
  },
  {
   "cell_type": "markdown",
   "source": [
    "# 5.4. Verify that there are no more invalid ratings"
   ],
   "metadata": {
    "collapsed": false
   },
   "id": "f4086b7eb03a433"
  },
  {
   "cell_type": "code",
   "outputs": [
    {
     "name": "stdout",
     "output_type": "stream",
     "text": [
      "Number of rows with invalid rating values after correction: 0\n"
     ]
    }
   ],
   "source": [
    "invalid_ratings_count = ((df['rating'] < 1) | (df['rating'] > 5)).sum()\n",
    "print(f\"Number of rows with invalid rating values after correction: {invalid_ratings_count}\")"
   ],
   "metadata": {
    "collapsed": false,
    "ExecuteTime": {
     "end_time": "2024-02-24T12:39:10.932567Z",
     "start_time": "2024-02-24T12:39:10.928234Z"
    }
   },
   "id": "ac2e9685f235295b",
   "execution_count": 53
  },
  {
   "cell_type": "markdown",
   "source": [
    "# 6. Create a new column \"Review Length\" that represents the number of words in the review text."
   ],
   "metadata": {
    "collapsed": false
   },
   "id": "a273105f97450d76"
  },
  {
   "cell_type": "code",
   "outputs": [
    {
     "name": "stdout",
     "output_type": "stream",
     "text": [
      "        restaurant_name        reviewer_name  \\\n",
      "id                                             \n",
      "0                 Буфет         Тереза Дубас   \n",
      "1                  Sowa      Тереза Демʼянюк   \n",
      "2              Всі свої    Богуслава Чуприна   \n",
      "3                  Sowa       Ярина Рябченко   \n",
      "4               Реберня  Богуслава Данькевич   \n",
      "5                 Колос       Маруся Аронець   \n",
      "6               Домашка      Микита Єсипенко   \n",
      "7   Львівська майстерня      Роксолана Дацюк   \n",
      "8           Пузата хата         Аліна Тригуб   \n",
      "9           Пузата хата         Андрій Артим   \n",
      "\n",
      "                                      review_text  rating date_of_visit  \\\n",
      "id                                                                        \n",
      "0      Не вражений обслуговуванням та якістю їжі.       4    2022-09-13   \n",
      "1               Смачні страви за доступною ціною.       5    2023-06-23   \n",
      "2      Не вражений обслуговуванням та якістю їжі.       5    2023-07-08   \n",
      "3      Чудова атмосфера та швидке обслуговування.       5    2023-09-22   \n",
      "4    Невідповідний сервіс та дорогі ціни на меню.       5    2022-12-17   \n",
      "5        Дуже смачна кухня та привітний персонал.       4    2023-06-02   \n",
      "6     Швидке приготування та гарний вигляд страв.       4    2023-02-20   \n",
      "7          Рекомендую це місце для гарного вечора       2    2022-07-30   \n",
      "8   Завжди свіжі продукти та широкий вибір страв.       2    2023-12-20   \n",
      "9      Не вражений обслуговуванням та якістю їжі.       1    2023-05-16   \n",
      "\n",
      "       location  Review Length  \n",
      "id                              \n",
      "0        Сніжне              6  \n",
      "1      Селидове              5  \n",
      "2         Хотин              6  \n",
      "3     Білопілля              5  \n",
      "4   Амвросіївка              7  \n",
      "5       Глобине              6  \n",
      "6   Первомайськ              6  \n",
      "7       Алмазна              6  \n",
      "8     Волочиськ              7  \n",
      "9      Борислав              6  \n"
     ]
    }
   ],
   "source": [
    "def count_words(row):\n",
    "    return len(row['review_text'].split())\n",
    "\n",
    "df['Review Length'] = df.apply(count_words, axis=1)\n",
    "\n",
    "print(df.head(10))"
   ],
   "metadata": {
    "collapsed": false,
    "ExecuteTime": {
     "end_time": "2024-02-24T12:39:12.533559Z",
     "start_time": "2024-02-24T12:39:12.529473Z"
    }
   },
   "id": "194210c455d23ea1",
   "execution_count": 54
  },
  {
   "cell_type": "markdown",
   "source": [
    "# 7. Find the average rating for each restaurant and display the top 10 highest-rated restaurants."
   ],
   "metadata": {
    "collapsed": false
   },
   "id": "3704a0e87f16bd0f"
  },
  {
   "cell_type": "code",
   "outputs": [
    {
     "data": {
      "text/plain": "restaurant_name\nДомашка                       3.450000\nРеберня                       3.333333\nДрузі                         3.250000\nКопальня кави                 3.222222\nВсі свої                      3.080000\nПʼяна вишня                   3.026316\nБуфет                         3.000000\nКолос                         3.000000\nШтрудель                      3.000000\nЛьвівська майстерня           2.935484\nShoco                         2.885714\nЛьвівська мануфактура кави    2.884615\nSowa                          2.771429\nСто років тому вперед         2.736842\nПузата хата                   2.657143\nName: rating, dtype: float64"
     },
     "execution_count": 55,
     "metadata": {},
     "output_type": "execute_result"
    }
   ],
   "source": [
    "df.groupby(\"restaurant_name\")['rating'].mean().sort_values(ascending=False)"
   ],
   "metadata": {
    "collapsed": false,
    "ExecuteTime": {
     "end_time": "2024-02-24T12:39:15.155498Z",
     "start_time": "2024-02-24T12:39:15.143788Z"
    }
   },
   "id": "82130ac3ff67895e",
   "execution_count": 55
  },
  {
   "cell_type": "markdown",
   "source": [
    "# 8. Identify the 5 most frequent reviewers and the average rating they give."
   ],
   "metadata": {
    "collapsed": false
   },
   "id": "75b80bc78ad56686"
  },
  {
   "cell_type": "markdown",
   "source": [
    "# 8.1. Choose the first 5 most frequent reviewers"
   ],
   "metadata": {
    "collapsed": false
   },
   "id": "a8cf95e41faef71"
  },
  {
   "cell_type": "code",
   "outputs": [
    {
     "name": "stdout",
     "output_type": "stream",
     "text": [
      "reviewer_name\n",
      "Володимира Ткач      2\n",
      "Тереза Дубас         1\n",
      "Соломія Оберемко     1\n",
      "Мілена Ґерус         1\n",
      "Тарас Башполченко    1\n",
      "Name: count, dtype: int64\n"
     ]
    }
   ],
   "source": [
    "top_reviewers = df[\"reviewer_name\"].value_counts().head(5) \n",
    "print(top_reviewers)"
   ],
   "metadata": {
    "collapsed": false,
    "ExecuteTime": {
     "end_time": "2024-02-24T13:43:42.432001Z",
     "start_time": "2024-02-24T13:43:42.428845Z"
    }
   },
   "id": "1b13b2e6ec8b2d69",
   "execution_count": 85
  },
  {
   "cell_type": "markdown",
   "source": [
    "# 8.2. Calculate the average rating for each of the top reviewers"
   ],
   "metadata": {
    "collapsed": false
   },
   "id": "346d6ed40ee73aa6"
  },
  {
   "cell_type": "code",
   "outputs": [
    {
     "name": "stdout",
     "output_type": "stream",
     "text": [
      "reviewer_name\n",
      "Володимира Ткач      3.0\n",
      "Мілена Ґерус         2.0\n",
      "Соломія Оберемко     2.0\n",
      "Тарас Башполченко    1.0\n",
      "Тереза Дубас         4.0\n",
      "Name: rating, dtype: float64\n"
     ]
    }
   ],
   "source": [
    "average_ratings_by_reviewer = df[df['reviewer_name'].isin(top_reviewers.index)].groupby('reviewer_name')['rating'].mean()\n",
    "print(average_ratings_by_reviewer)"
   ],
   "metadata": {
    "collapsed": false,
    "ExecuteTime": {
     "end_time": "2024-02-24T13:43:03.456531Z",
     "start_time": "2024-02-24T13:43:03.445856Z"
    }
   },
   "id": "31146340e379f2a3",
   "execution_count": 84
  },
  {
   "cell_type": "markdown",
   "source": [
    "# 9. Calculate the average rating per month to see if there is a trend over time."
   ],
   "metadata": {
    "collapsed": false
   },
   "id": "4574928c632c0c1e"
  },
  {
   "cell_type": "code",
   "outputs": [
    {
     "name": "stdout",
     "output_type": "stream",
     "text": [
      "year  month\n",
      "2022  2        3.125000\n",
      "      3        3.352941\n",
      "      4        2.500000\n",
      "      5        2.952381\n",
      "      6        3.280000\n",
      "      7        2.900000\n",
      "      8        3.769231\n",
      "      9        2.761905\n",
      "      10       3.285714\n",
      "      11       2.588235\n",
      "      12       3.130435\n",
      "2023  1        3.047619\n",
      "      2        3.214286\n",
      "      3        2.384615\n",
      "      4        3.125000\n",
      "      5        2.684211\n",
      "      6        3.200000\n",
      "      7        2.900000\n",
      "      8        3.083333\n",
      "      9        2.944444\n",
      "      10       3.130435\n",
      "      11       2.952381\n",
      "      12       3.411765\n",
      "2024  1        2.888889\n",
      "      2        2.894737\n",
      "Name: rating, dtype: float64\n"
     ]
    }
   ],
   "source": [
    "df['date_of_visit'] = pd.to_datetime(df['date_of_visit'])\n",
    "\n",
    "df['month'] = df['date_of_visit'].dt.month \n",
    "df['year'] = df['date_of_visit'].dt.year\n",
    "\n",
    "average_rating_per_month = df.groupby(['year', 'month'])['rating'].mean() \n",
    "\n",
    "print(average_rating_per_month)"
   ],
   "metadata": {
    "collapsed": false,
    "ExecuteTime": {
     "end_time": "2024-02-24T13:50:26.849081Z",
     "start_time": "2024-02-24T13:50:26.840979Z"
    }
   },
   "id": "b22635cc062e490",
   "execution_count": 87
  },
  {
   "cell_type": "markdown",
   "source": [
    "# 10. Find the restaurant with the most reviews."
   ],
   "metadata": {
    "collapsed": false
   },
   "id": "a66459516107a740"
  },
  {
   "cell_type": "code",
   "outputs": [
    {
     "name": "stdout",
     "output_type": "stream",
     "text": [
      "The restaurant with the most reviews is 'Домашка' with 40 reviews.\n"
     ]
    }
   ],
   "source": [
    "most_reviews_restaurant = df['restaurant_name'].value_counts().idxmax()\n",
    "most_reviews_count = df['restaurant_name'].value_counts().max()\n",
    "\n",
    "print(f\"The restaurant with the most reviews is '{most_reviews_restaurant}' with {most_reviews_count} reviews.\")"
   ],
   "metadata": {
    "collapsed": false,
    "ExecuteTime": {
     "end_time": "2024-02-24T13:56:35.880883Z",
     "start_time": "2024-02-24T13:56:35.868188Z"
    }
   },
   "id": "65906f8788072bad",
   "execution_count": 91
  },
  {
   "cell_type": "markdown",
   "source": [
    "# 11. Determine the city with the highest average rating."
   ],
   "metadata": {
    "collapsed": false
   },
   "id": "bb16c355695a33d5"
  },
  {
   "cell_type": "code",
   "outputs": [
    {
     "name": "stdout",
     "output_type": "stream",
     "text": [
      "The city with the highest average rating is 'Ізяслав' with an average rating of 5.0.\n"
     ]
    }
   ],
   "source": [
    "average_rating_by_city = df.groupby('location')['rating'].mean()\n",
    "highest_avg_rating_city = average_rating_by_city.idxmax()\n",
    "highest_avg_rating = average_rating_by_city.max()\n",
    "\n",
    "print(f\"The city with the highest average rating is '{highest_avg_rating_city}' with an average rating of {highest_avg_rating}.\")"
   ],
   "metadata": {
    "collapsed": false,
    "ExecuteTime": {
     "end_time": "2024-02-24T14:03:44.604884Z",
     "start_time": "2024-02-24T14:03:44.594455Z"
    }
   },
   "id": "29dd3911b3ff8e9c",
   "execution_count": 96
  },
  {
   "cell_type": "markdown",
   "source": [
    "# 12. Save the cleaned and manipulated DataFrame to a new CSV file."
   ],
   "metadata": {
    "collapsed": false
   },
   "id": "2632a3ae3618fd2d"
  },
  {
   "cell_type": "code",
   "outputs": [],
   "source": [
    "df.to_csv(\"updated_restaurant_reviews.csv\")"
   ],
   "metadata": {
    "collapsed": false,
    "ExecuteTime": {
     "end_time": "2024-02-24T14:13:35.811266Z",
     "start_time": "2024-02-24T14:13:35.800448Z"
    }
   },
   "id": "4f059af9db9a3df8",
   "execution_count": 99
  },
  {
   "cell_type": "markdown",
   "source": [
    "# 13. Create a list of unique cities and save it new csv file"
   ],
   "metadata": {
    "collapsed": false
   },
   "id": "ab5ca840329ef7f8"
  },
  {
   "cell_type": "code",
   "outputs": [
    {
     "name": "stdout",
     "output_type": "stream",
     "text": [
      "          location\n",
      "0           Сніжне\n",
      "1         Селидове\n",
      "2            Хотин\n",
      "3        Білопілля\n",
      "4      Амвросіївка\n",
      "..             ...\n",
      "300       Харцизьк\n",
      "301  Монастириська\n",
      "302       Шаргород\n",
      "303   Вільногірськ\n",
      "304        Іллінці\n",
      "\n",
      "[305 rows x 1 columns]\n"
     ]
    }
   ],
   "source": [
    "cities_df = pd.DataFrame.from_dict({'location': df['location'].unique()})\n",
    "print(cities_df)"
   ],
   "metadata": {
    "collapsed": false,
    "ExecuteTime": {
     "end_time": "2024-02-24T14:24:54.184323Z",
     "start_time": "2024-02-24T14:24:54.179640Z"
    }
   },
   "id": "8c7621589c6befbf",
   "execution_count": 103
  },
  {
   "cell_type": "code",
   "outputs": [],
   "source": [
    "cities_df.to_csv('cities.csv')"
   ],
   "metadata": {
    "collapsed": false
   },
   "id": "8c09b0fc63e45945"
  }
 ],
 "metadata": {
  "kernelspec": {
   "display_name": "Python 3",
   "language": "python",
   "name": "python3"
  },
  "language_info": {
   "codemirror_mode": {
    "name": "ipython",
    "version": 2
   },
   "file_extension": ".py",
   "mimetype": "text/x-python",
   "name": "python",
   "nbconvert_exporter": "python",
   "pygments_lexer": "ipython2",
   "version": "2.7.6"
  }
 },
 "nbformat": 4,
 "nbformat_minor": 5
}
