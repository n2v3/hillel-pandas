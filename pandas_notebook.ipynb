{
 "cells": [
  {
   "cell_type": "code",
   "execution_count": 132,
   "id": "initial_id",
   "metadata": {
    "collapsed": true,
    "ExecuteTime": {
     "end_time": "2024-02-24T14:44:34.850470Z",
     "start_time": "2024-02-24T14:44:34.846616Z"
    }
   },
   "outputs": [],
   "source": [
    "import pandas as pd"
   ]
  },
  {
   "cell_type": "markdown",
   "source": [
    "# 1. Load the dataset into a Pandas DataFrame."
   ],
   "metadata": {
    "collapsed": false
   },
   "id": "f03cdec60521346a"
  },
  {
   "cell_type": "code",
   "outputs": [],
   "source": [
    "df = pd.read_csv('restaurant_reviews.csv')"
   ],
   "metadata": {
    "collapsed": false,
    "ExecuteTime": {
     "end_time": "2024-02-24T14:44:35.211458Z",
     "start_time": "2024-02-24T14:44:35.202723Z"
    }
   },
   "id": "70b721348f3d1b3c",
   "execution_count": 133
  },
  {
   "cell_type": "markdown",
   "source": [
    "# 2. Display the first 10 rows of the dataset."
   ],
   "metadata": {
    "collapsed": false
   },
   "id": "78b00970605548e2"
  },
  {
   "cell_type": "code",
   "outputs": [
    {
     "data": {
      "text/plain": "   id             restaurant_name         reviewer_name  \\\n0   0                    Штрудель   Тимофій Калениченко   \n1   1  Львівська мануфактура кави   Володимир Наливайко   \n2   2                       Друзі          Спас Каденюк   \n3   3         Львівська майстерня         Яків Цимбалюк   \n4   4  Львівська мануфактура кави      Орина Нестеренко   \n5   5                    Всі свої  Святослав Павличенко   \n6   6                    Всі свої        Лариса Яремків   \n7   7                    Штрудель        Онисим Хорішко   \n8   8                     Реберня      Леонтій Яковенко   \n9   9                    Всі свої         Устим Шморгун   \n\n                                     review_text  rating date_of_visit  \\\n0         Рекомендую це місце для гарного вечора       2    2023-03-14   \n1     Чудова атмосфера та швидке обслуговування.       3    2024-01-12   \n2     Не вражений обслуговуванням та якістю їжі.       4    2022-05-25   \n3     Чудова атмосфера та швидке обслуговування.       3    2023-03-14   \n4       Приємна музика та оригінальний інтер'єр.       3    2023-12-17   \n5  Завжди свіжі продукти та широкий вибір страв.       5    2022-05-01   \n6     Не вражений обслуговуванням та якістю їжі.       3    2024-02-10   \n7         Веселе місце для зустрічей та вечірок.       2    2023-02-15   \n8         Рекомендую це місце для гарного вечора       2    2022-08-06   \n9       Приємна музика та оригінальний інтер'єр.       3    2023-11-08   \n\n     location  \n0       Буськ  \n1      Буринь  \n2     Чигирин  \n3    Курахове  \n4      Сокаль  \n5  Червоносів  \n6   Городище   \n7   Васильків  \n8     Соледар  \n9   Пустомити  ",
      "text/html": "<div>\n<style scoped>\n    .dataframe tbody tr th:only-of-type {\n        vertical-align: middle;\n    }\n\n    .dataframe tbody tr th {\n        vertical-align: top;\n    }\n\n    .dataframe thead th {\n        text-align: right;\n    }\n</style>\n<table border=\"1\" class=\"dataframe\">\n  <thead>\n    <tr style=\"text-align: right;\">\n      <th></th>\n      <th>id</th>\n      <th>restaurant_name</th>\n      <th>reviewer_name</th>\n      <th>review_text</th>\n      <th>rating</th>\n      <th>date_of_visit</th>\n      <th>location</th>\n    </tr>\n  </thead>\n  <tbody>\n    <tr>\n      <th>0</th>\n      <td>0</td>\n      <td>Штрудель</td>\n      <td>Тимофій Калениченко</td>\n      <td>Рекомендую це місце для гарного вечора</td>\n      <td>2</td>\n      <td>2023-03-14</td>\n      <td>Буськ</td>\n    </tr>\n    <tr>\n      <th>1</th>\n      <td>1</td>\n      <td>Львівська мануфактура кави</td>\n      <td>Володимир Наливайко</td>\n      <td>Чудова атмосфера та швидке обслуговування.</td>\n      <td>3</td>\n      <td>2024-01-12</td>\n      <td>Буринь</td>\n    </tr>\n    <tr>\n      <th>2</th>\n      <td>2</td>\n      <td>Друзі</td>\n      <td>Спас Каденюк</td>\n      <td>Не вражений обслуговуванням та якістю їжі.</td>\n      <td>4</td>\n      <td>2022-05-25</td>\n      <td>Чигирин</td>\n    </tr>\n    <tr>\n      <th>3</th>\n      <td>3</td>\n      <td>Львівська майстерня</td>\n      <td>Яків Цимбалюк</td>\n      <td>Чудова атмосфера та швидке обслуговування.</td>\n      <td>3</td>\n      <td>2023-03-14</td>\n      <td>Курахове</td>\n    </tr>\n    <tr>\n      <th>4</th>\n      <td>4</td>\n      <td>Львівська мануфактура кави</td>\n      <td>Орина Нестеренко</td>\n      <td>Приємна музика та оригінальний інтер'єр.</td>\n      <td>3</td>\n      <td>2023-12-17</td>\n      <td>Сокаль</td>\n    </tr>\n    <tr>\n      <th>5</th>\n      <td>5</td>\n      <td>Всі свої</td>\n      <td>Святослав Павличенко</td>\n      <td>Завжди свіжі продукти та широкий вибір страв.</td>\n      <td>5</td>\n      <td>2022-05-01</td>\n      <td>Червоносів</td>\n    </tr>\n    <tr>\n      <th>6</th>\n      <td>6</td>\n      <td>Всі свої</td>\n      <td>Лариса Яремків</td>\n      <td>Не вражений обслуговуванням та якістю їжі.</td>\n      <td>3</td>\n      <td>2024-02-10</td>\n      <td>Городище</td>\n    </tr>\n    <tr>\n      <th>7</th>\n      <td>7</td>\n      <td>Штрудель</td>\n      <td>Онисим Хорішко</td>\n      <td>Веселе місце для зустрічей та вечірок.</td>\n      <td>2</td>\n      <td>2023-02-15</td>\n      <td>Васильків</td>\n    </tr>\n    <tr>\n      <th>8</th>\n      <td>8</td>\n      <td>Реберня</td>\n      <td>Леонтій Яковенко</td>\n      <td>Рекомендую це місце для гарного вечора</td>\n      <td>2</td>\n      <td>2022-08-06</td>\n      <td>Соледар</td>\n    </tr>\n    <tr>\n      <th>9</th>\n      <td>9</td>\n      <td>Всі свої</td>\n      <td>Устим Шморгун</td>\n      <td>Приємна музика та оригінальний інтер'єр.</td>\n      <td>3</td>\n      <td>2023-11-08</td>\n      <td>Пустомити</td>\n    </tr>\n  </tbody>\n</table>\n</div>"
     },
     "execution_count": 134,
     "metadata": {},
     "output_type": "execute_result"
    }
   ],
   "source": [
    "df.head(10)"
   ],
   "metadata": {
    "collapsed": false,
    "ExecuteTime": {
     "end_time": "2024-02-24T14:44:35.559690Z",
     "start_time": "2024-02-24T14:44:35.554134Z"
    }
   },
   "id": "e3d4235edc14f75d",
   "execution_count": 134
  },
  {
   "cell_type": "markdown",
   "source": [
    "# 3. Set the 'id' column as the index of the dataframe"
   ],
   "metadata": {
    "collapsed": false
   },
   "id": "8c2c6141ac464d84"
  },
  {
   "cell_type": "code",
   "outputs": [],
   "source": [
    "df.set_index('id', inplace=True)"
   ],
   "metadata": {
    "collapsed": false,
    "ExecuteTime": {
     "end_time": "2024-02-24T14:44:35.921597Z",
     "start_time": "2024-02-24T14:44:35.919224Z"
    }
   },
   "id": "4f4502bd4a602c82",
   "execution_count": 135
  },
  {
   "cell_type": "code",
   "outputs": [
    {
     "data": {
      "text/plain": "               restaurant_name         reviewer_name  \\\nid                                                     \n0                     Штрудель   Тимофій Калениченко   \n1   Львівська мануфактура кави   Володимир Наливайко   \n2                        Друзі          Спас Каденюк   \n3          Львівська майстерня         Яків Цимбалюк   \n4   Львівська мануфактура кави      Орина Нестеренко   \n5                     Всі свої  Святослав Павличенко   \n6                     Всі свої        Лариса Яремків   \n7                     Штрудель        Онисим Хорішко   \n8                      Реберня      Леонтій Яковенко   \n9                     Всі свої         Устим Шморгун   \n\n                                      review_text  rating date_of_visit  \\\nid                                                                        \n0          Рекомендую це місце для гарного вечора       2    2023-03-14   \n1      Чудова атмосфера та швидке обслуговування.       3    2024-01-12   \n2      Не вражений обслуговуванням та якістю їжі.       4    2022-05-25   \n3      Чудова атмосфера та швидке обслуговування.       3    2023-03-14   \n4        Приємна музика та оригінальний інтер'єр.       3    2023-12-17   \n5   Завжди свіжі продукти та широкий вибір страв.       5    2022-05-01   \n6      Не вражений обслуговуванням та якістю їжі.       3    2024-02-10   \n7          Веселе місце для зустрічей та вечірок.       2    2023-02-15   \n8          Рекомендую це місце для гарного вечора       2    2022-08-06   \n9        Приємна музика та оригінальний інтер'єр.       3    2023-11-08   \n\n      location  \nid              \n0        Буськ  \n1       Буринь  \n2      Чигирин  \n3     Курахове  \n4       Сокаль  \n5   Червоносів  \n6    Городище   \n7    Васильків  \n8      Соледар  \n9    Пустомити  ",
      "text/html": "<div>\n<style scoped>\n    .dataframe tbody tr th:only-of-type {\n        vertical-align: middle;\n    }\n\n    .dataframe tbody tr th {\n        vertical-align: top;\n    }\n\n    .dataframe thead th {\n        text-align: right;\n    }\n</style>\n<table border=\"1\" class=\"dataframe\">\n  <thead>\n    <tr style=\"text-align: right;\">\n      <th></th>\n      <th>restaurant_name</th>\n      <th>reviewer_name</th>\n      <th>review_text</th>\n      <th>rating</th>\n      <th>date_of_visit</th>\n      <th>location</th>\n    </tr>\n    <tr>\n      <th>id</th>\n      <th></th>\n      <th></th>\n      <th></th>\n      <th></th>\n      <th></th>\n      <th></th>\n    </tr>\n  </thead>\n  <tbody>\n    <tr>\n      <th>0</th>\n      <td>Штрудель</td>\n      <td>Тимофій Калениченко</td>\n      <td>Рекомендую це місце для гарного вечора</td>\n      <td>2</td>\n      <td>2023-03-14</td>\n      <td>Буськ</td>\n    </tr>\n    <tr>\n      <th>1</th>\n      <td>Львівська мануфактура кави</td>\n      <td>Володимир Наливайко</td>\n      <td>Чудова атмосфера та швидке обслуговування.</td>\n      <td>3</td>\n      <td>2024-01-12</td>\n      <td>Буринь</td>\n    </tr>\n    <tr>\n      <th>2</th>\n      <td>Друзі</td>\n      <td>Спас Каденюк</td>\n      <td>Не вражений обслуговуванням та якістю їжі.</td>\n      <td>4</td>\n      <td>2022-05-25</td>\n      <td>Чигирин</td>\n    </tr>\n    <tr>\n      <th>3</th>\n      <td>Львівська майстерня</td>\n      <td>Яків Цимбалюк</td>\n      <td>Чудова атмосфера та швидке обслуговування.</td>\n      <td>3</td>\n      <td>2023-03-14</td>\n      <td>Курахове</td>\n    </tr>\n    <tr>\n      <th>4</th>\n      <td>Львівська мануфактура кави</td>\n      <td>Орина Нестеренко</td>\n      <td>Приємна музика та оригінальний інтер'єр.</td>\n      <td>3</td>\n      <td>2023-12-17</td>\n      <td>Сокаль</td>\n    </tr>\n    <tr>\n      <th>5</th>\n      <td>Всі свої</td>\n      <td>Святослав Павличенко</td>\n      <td>Завжди свіжі продукти та широкий вибір страв.</td>\n      <td>5</td>\n      <td>2022-05-01</td>\n      <td>Червоносів</td>\n    </tr>\n    <tr>\n      <th>6</th>\n      <td>Всі свої</td>\n      <td>Лариса Яремків</td>\n      <td>Не вражений обслуговуванням та якістю їжі.</td>\n      <td>3</td>\n      <td>2024-02-10</td>\n      <td>Городище</td>\n    </tr>\n    <tr>\n      <th>7</th>\n      <td>Штрудель</td>\n      <td>Онисим Хорішко</td>\n      <td>Веселе місце для зустрічей та вечірок.</td>\n      <td>2</td>\n      <td>2023-02-15</td>\n      <td>Васильків</td>\n    </tr>\n    <tr>\n      <th>8</th>\n      <td>Реберня</td>\n      <td>Леонтій Яковенко</td>\n      <td>Рекомендую це місце для гарного вечора</td>\n      <td>2</td>\n      <td>2022-08-06</td>\n      <td>Соледар</td>\n    </tr>\n    <tr>\n      <th>9</th>\n      <td>Всі свої</td>\n      <td>Устим Шморгун</td>\n      <td>Приємна музика та оригінальний інтер'єр.</td>\n      <td>3</td>\n      <td>2023-11-08</td>\n      <td>Пустомити</td>\n    </tr>\n  </tbody>\n</table>\n</div>"
     },
     "execution_count": 136,
     "metadata": {},
     "output_type": "execute_result"
    }
   ],
   "source": [
    "df.head(10)"
   ],
   "metadata": {
    "collapsed": false,
    "ExecuteTime": {
     "end_time": "2024-02-24T14:44:36.131438Z",
     "start_time": "2024-02-24T14:44:36.127447Z"
    }
   },
   "id": "43e50f5cfea55e53",
   "execution_count": 136
  },
  {
   "cell_type": "markdown",
   "source": [
    "# 4. Check for missing values"
   ],
   "metadata": {
    "collapsed": false
   },
   "id": "8ad739e009540a85"
  },
  {
   "cell_type": "code",
   "outputs": [
    {
     "name": "stdout",
     "output_type": "stream",
     "text": [
      "Missing Values:\n",
      "restaurant_name    0\n",
      "reviewer_name      0\n",
      "review_text        0\n",
      "rating             0\n",
      "date_of_visit      0\n",
      "location           0\n",
      "dtype: int64\n"
     ]
    }
   ],
   "source": [
    "missing_values = df.isnull().sum()\n",
    "print(\"Missing Values:\")\n",
    "print(missing_values)"
   ],
   "metadata": {
    "collapsed": false,
    "ExecuteTime": {
     "end_time": "2024-02-24T14:44:36.487385Z",
     "start_time": "2024-02-24T14:44:36.485346Z"
    }
   },
   "id": "2ef8121fec37f077",
   "execution_count": 137
  },
  {
   "cell_type": "markdown",
   "source": [
    "# 5. Ensure all ratings are within the 1 to 5 range"
   ],
   "metadata": {
    "collapsed": false
   },
   "id": "9b37249f1813d577"
  },
  {
   "cell_type": "markdown",
   "source": [
    "# 5.1. Count the number of rows with rating values outside the range [1, 5]"
   ],
   "metadata": {
    "collapsed": false
   },
   "id": "64c29e6332c8897f"
  },
  {
   "cell_type": "code",
   "outputs": [
    {
     "name": "stdout",
     "output_type": "stream",
     "text": [
      "Number of rows with invalid rating values: 5\n"
     ]
    }
   ],
   "source": [
    "invalid_ratings_count = ((df['rating'] < 1) | (df['rating'] > 5)).sum()\n",
    "print(f\"Number of rows with invalid rating values: {invalid_ratings_count}\")"
   ],
   "metadata": {
    "collapsed": false,
    "ExecuteTime": {
     "end_time": "2024-02-24T14:44:37.039208Z",
     "start_time": "2024-02-24T14:44:37.037513Z"
    }
   },
   "id": "c2e9a58e6cd2790d",
   "execution_count": 138
  },
  {
   "cell_type": "markdown",
   "source": [
    "# 5.2. Calculate the median rating"
   ],
   "metadata": {
    "collapsed": false
   },
   "id": "fbd14e7774407146"
  },
  {
   "cell_type": "code",
   "outputs": [
    {
     "name": "stdout",
     "output_type": "stream",
     "text": [
      "3.0\n"
     ]
    }
   ],
   "source": [
    "median_rating = df['rating'].median()\n",
    "print(median_rating)"
   ],
   "metadata": {
    "collapsed": false,
    "ExecuteTime": {
     "end_time": "2024-02-24T14:44:37.407088Z",
     "start_time": "2024-02-24T14:44:37.403184Z"
    }
   },
   "id": "9e01f98b43fa8ca8",
   "execution_count": 139
  },
  {
   "cell_type": "markdown",
   "source": [
    "# 5.3. Replace invalid ratings with the median value"
   ],
   "metadata": {
    "collapsed": false
   },
   "id": "c966664abd45cdd5"
  },
  {
   "cell_type": "code",
   "outputs": [],
   "source": [
    "df['rating'] = df['rating'].clip(1, 5).replace({0: median_rating})"
   ],
   "metadata": {
    "collapsed": false,
    "ExecuteTime": {
     "end_time": "2024-02-24T14:44:37.789837Z",
     "start_time": "2024-02-24T14:44:37.787154Z"
    }
   },
   "id": "7c736186ef517317",
   "execution_count": 140
  },
  {
   "cell_type": "markdown",
   "source": [
    "# 5.4. Verify that there are no more invalid ratings"
   ],
   "metadata": {
    "collapsed": false
   },
   "id": "f4086b7eb03a433"
  },
  {
   "cell_type": "code",
   "outputs": [
    {
     "name": "stdout",
     "output_type": "stream",
     "text": [
      "Number of rows with invalid rating values after correction: 0\n"
     ]
    }
   ],
   "source": [
    "invalid_ratings_count = ((df['rating'] < 1) | (df['rating'] > 5)).sum()\n",
    "print(f\"Number of rows with invalid rating values after correction: {invalid_ratings_count}\")"
   ],
   "metadata": {
    "collapsed": false,
    "ExecuteTime": {
     "end_time": "2024-02-24T14:44:38.157439Z",
     "start_time": "2024-02-24T14:44:38.153853Z"
    }
   },
   "id": "ac2e9685f235295b",
   "execution_count": 141
  },
  {
   "cell_type": "markdown",
   "source": [
    "# 6. Create a new column \"Review Length\" that represents the number of words in the review text."
   ],
   "metadata": {
    "collapsed": false
   },
   "id": "a273105f97450d76"
  },
  {
   "cell_type": "code",
   "outputs": [
    {
     "name": "stdout",
     "output_type": "stream",
     "text": [
      "               restaurant_name         reviewer_name  \\\n",
      "id                                                     \n",
      "0                     Штрудель   Тимофій Калениченко   \n",
      "1   Львівська мануфактура кави   Володимир Наливайко   \n",
      "2                        Друзі          Спас Каденюк   \n",
      "3          Львівська майстерня         Яків Цимбалюк   \n",
      "4   Львівська мануфактура кави      Орина Нестеренко   \n",
      "5                     Всі свої  Святослав Павличенко   \n",
      "6                     Всі свої        Лариса Яремків   \n",
      "7                     Штрудель        Онисим Хорішко   \n",
      "8                      Реберня      Леонтій Яковенко   \n",
      "9                     Всі свої         Устим Шморгун   \n",
      "\n",
      "                                      review_text  rating date_of_visit  \\\n",
      "id                                                                        \n",
      "0          Рекомендую це місце для гарного вечора       2    2023-03-14   \n",
      "1      Чудова атмосфера та швидке обслуговування.       3    2024-01-12   \n",
      "2      Не вражений обслуговуванням та якістю їжі.       4    2022-05-25   \n",
      "3      Чудова атмосфера та швидке обслуговування.       3    2023-03-14   \n",
      "4        Приємна музика та оригінальний інтер'єр.       3    2023-12-17   \n",
      "5   Завжди свіжі продукти та широкий вибір страв.       5    2022-05-01   \n",
      "6      Не вражений обслуговуванням та якістю їжі.       3    2024-02-10   \n",
      "7          Веселе місце для зустрічей та вечірок.       2    2023-02-15   \n",
      "8          Рекомендую це місце для гарного вечора       2    2022-08-06   \n",
      "9        Приємна музика та оригінальний інтер'єр.       3    2023-11-08   \n",
      "\n",
      "      location  review length  review_length  \n",
      "id                                            \n",
      "0        Буськ              6              6  \n",
      "1       Буринь              5              5  \n",
      "2      Чигирин              6              6  \n",
      "3     Курахове              5              5  \n",
      "4       Сокаль              5              5  \n",
      "5   Червоносів              7              7  \n",
      "6    Городище               6              6  \n",
      "7    Васильків              6              6  \n",
      "8      Соледар              6              6  \n",
      "9    Пустомити              5              5  \n"
     ]
    }
   ],
   "source": [
    "def count_words(row):\n",
    "    return len(row['review_text'].split())\n",
    "\n",
    "df['review_length'] = df.apply(count_words, axis=1)\n",
    "\n",
    "print(df.head(10))"
   ],
   "metadata": {
    "collapsed": false,
    "ExecuteTime": {
     "end_time": "2024-02-24T14:46:06.498024Z",
     "start_time": "2024-02-24T14:46:06.483422Z"
    }
   },
   "id": "194210c455d23ea1",
   "execution_count": 153
  },
  {
   "cell_type": "markdown",
   "source": [
    "# 7. Find the average rating for each restaurant and display the top 10 highest-rated restaurants."
   ],
   "metadata": {
    "collapsed": false
   },
   "id": "3704a0e87f16bd0f"
  },
  {
   "cell_type": "code",
   "outputs": [
    {
     "data": {
      "text/plain": "restaurant_name\nКопальня кави                 3.342857\nSowa                          3.217391\nЛьвівська мануфактура кави    3.171429\nБуфет                         3.137931\nВсі свої                      3.111111\nДомашка                       3.100000\nРеберня                       3.083333\nДрузі                         3.000000\nСто років тому вперед         3.000000\nШтрудель                      2.935484\nКолос                         2.896552\nПʼяна вишня                   2.875000\nShoco                         2.763158\nЛьвівська майстерня           2.680000\nПузата хата                   2.484848\nName: rating, dtype: float64"
     },
     "execution_count": 154,
     "metadata": {},
     "output_type": "execute_result"
    }
   ],
   "source": [
    "df.groupby(\"restaurant_name\")['rating'].mean().sort_values(ascending=False)"
   ],
   "metadata": {
    "collapsed": false,
    "ExecuteTime": {
     "end_time": "2024-02-24T14:46:08.511743Z",
     "start_time": "2024-02-24T14:46:08.505366Z"
    }
   },
   "id": "82130ac3ff67895e",
   "execution_count": 154
  },
  {
   "cell_type": "markdown",
   "source": [
    "# 8. Identify the 5 most frequent reviewers and the average rating they give."
   ],
   "metadata": {
    "collapsed": false
   },
   "id": "75b80bc78ad56686"
  },
  {
   "cell_type": "markdown",
   "source": [
    "# 8.1. Choose the first 5 most frequent reviewers"
   ],
   "metadata": {
    "collapsed": false
   },
   "id": "a8cf95e41faef71"
  },
  {
   "cell_type": "code",
   "outputs": [
    {
     "name": "stdout",
     "output_type": "stream",
     "text": [
      "reviewer_name\n",
      "Богданна Левченко    2\n",
      "Амалія Величко       2\n",
      "Орися Черінько       1\n",
      "Ірина Зінкевич       1\n",
      "Данило Гайда         1\n",
      "Name: count, dtype: int64\n"
     ]
    }
   ],
   "source": [
    "top_reviewers = df[\"reviewer_name\"].value_counts().head(5) \n",
    "print(top_reviewers)"
   ],
   "metadata": {
    "collapsed": false,
    "ExecuteTime": {
     "end_time": "2024-02-24T14:46:09.158793Z",
     "start_time": "2024-02-24T14:46:09.101208Z"
    }
   },
   "id": "1b13b2e6ec8b2d69",
   "execution_count": 155
  },
  {
   "cell_type": "code",
   "outputs": [
    {
     "data": {
      "text/plain": "           reviewer_name\n0    Тимофій Калениченко\n1    Володимир Наливайко\n2           Спас Каденюк\n3          Яків Цимбалюк\n4       Орина Нестеренко\n..                   ...\n493         Адам Штокало\n494     Яків Євдокименко\n495         Орися Зінчук\n496          Богдан Цюпа\n497          Орхип Талан\n\n[498 rows x 1 columns]",
      "text/html": "<div>\n<style scoped>\n    .dataframe tbody tr th:only-of-type {\n        vertical-align: middle;\n    }\n\n    .dataframe tbody tr th {\n        vertical-align: top;\n    }\n\n    .dataframe thead th {\n        text-align: right;\n    }\n</style>\n<table border=\"1\" class=\"dataframe\">\n  <thead>\n    <tr style=\"text-align: right;\">\n      <th></th>\n      <th>reviewer_name</th>\n    </tr>\n  </thead>\n  <tbody>\n    <tr>\n      <th>0</th>\n      <td>Тимофій Калениченко</td>\n    </tr>\n    <tr>\n      <th>1</th>\n      <td>Володимир Наливайко</td>\n    </tr>\n    <tr>\n      <th>2</th>\n      <td>Спас Каденюк</td>\n    </tr>\n    <tr>\n      <th>3</th>\n      <td>Яків Цимбалюк</td>\n    </tr>\n    <tr>\n      <th>4</th>\n      <td>Орина Нестеренко</td>\n    </tr>\n    <tr>\n      <th>...</th>\n      <td>...</td>\n    </tr>\n    <tr>\n      <th>493</th>\n      <td>Адам Штокало</td>\n    </tr>\n    <tr>\n      <th>494</th>\n      <td>Яків Євдокименко</td>\n    </tr>\n    <tr>\n      <th>495</th>\n      <td>Орися Зінчук</td>\n    </tr>\n    <tr>\n      <th>496</th>\n      <td>Богдан Цюпа</td>\n    </tr>\n    <tr>\n      <th>497</th>\n      <td>Орхип Талан</td>\n    </tr>\n  </tbody>\n</table>\n<p>498 rows × 1 columns</p>\n</div>"
     },
     "execution_count": 156,
     "metadata": {},
     "output_type": "execute_result"
    }
   ],
   "source": [
    "# I decided to recheck the amount of unique reviewers' name (we can see that we have 499 unique names out of 500)\n",
    "pd.DataFrame.from_dict({\"reviewer_name\": df[\"reviewer_name\"].unique()})"
   ],
   "metadata": {
    "collapsed": false,
    "ExecuteTime": {
     "end_time": "2024-02-24T14:46:09.294507Z",
     "start_time": "2024-02-24T14:46:09.292094Z"
    }
   },
   "id": "da049b92027930c2",
   "execution_count": 156
  },
  {
   "cell_type": "markdown",
   "source": [
    "# 8.2. Calculate the average rating for each of the top reviewers"
   ],
   "metadata": {
    "collapsed": false
   },
   "id": "346d6ed40ee73aa6"
  },
  {
   "cell_type": "code",
   "outputs": [
    {
     "name": "stdout",
     "output_type": "stream",
     "text": [
      "reviewer_name\n",
      "Ірина Зінкевич       3.0\n",
      "Амалія Величко       3.0\n",
      "Богданна Левченко    4.5\n",
      "Данило Гайда         4.0\n",
      "Орися Черінько       5.0\n",
      "Name: rating, dtype: float64\n"
     ]
    }
   ],
   "source": [
    "average_ratings_by_reviewer = df[df['reviewer_name'].isin(top_reviewers.index)].groupby('reviewer_name')['rating'].mean()\n",
    "print(average_ratings_by_reviewer)"
   ],
   "metadata": {
    "collapsed": false,
    "ExecuteTime": {
     "end_time": "2024-02-24T14:46:09.758198Z",
     "start_time": "2024-02-24T14:46:09.743730Z"
    }
   },
   "id": "31146340e379f2a3",
   "execution_count": 157
  },
  {
   "cell_type": "markdown",
   "source": [
    "# 9. Calculate the average rating per month to see if there is a trend over time."
   ],
   "metadata": {
    "collapsed": false
   },
   "id": "4574928c632c0c1e"
  },
  {
   "cell_type": "code",
   "outputs": [
    {
     "name": "stdout",
     "output_type": "stream",
     "text": [
      "date_of_visit  date_of_visit\n",
      "2022           2                4.500000\n",
      "               3                2.933333\n",
      "               4                2.772727\n",
      "               5                3.100000\n",
      "               6                3.578947\n",
      "               7                2.300000\n",
      "               8                2.894737\n",
      "               9                2.961538\n",
      "               10               2.333333\n",
      "               11               2.736842\n",
      "               12               3.411765\n",
      "2023           1                3.307692\n",
      "               2                2.933333\n",
      "               3                3.000000\n",
      "               4                2.722222\n",
      "               5                2.400000\n",
      "               6                3.148148\n",
      "               7                3.000000\n",
      "               8                2.590909\n",
      "               9                3.352941\n",
      "               10               3.277778\n",
      "               11               3.266667\n",
      "               12               3.565217\n",
      "2024           1                3.080000\n",
      "               2                2.500000\n",
      "Name: rating, dtype: float64\n"
     ]
    }
   ],
   "source": [
    "df['date_of_visit'] = pd.to_datetime(df['date_of_visit'])\n",
    "\n",
    "average_rating_per_month = df.groupby([df['date_of_visit'].dt.year, df['date_of_visit'].dt.month])['rating'].mean()\n",
    "\n",
    "print(average_rating_per_month)"
   ],
   "metadata": {
    "collapsed": false,
    "ExecuteTime": {
     "end_time": "2024-02-24T14:46:10.042102Z",
     "start_time": "2024-02-24T14:46:10.035911Z"
    }
   },
   "id": "b22635cc062e490",
   "execution_count": 158
  },
  {
   "cell_type": "markdown",
   "source": [
    "# 10. Find the restaurant with the most reviews."
   ],
   "metadata": {
    "collapsed": false
   },
   "id": "a66459516107a740"
  },
  {
   "cell_type": "code",
   "outputs": [
    {
     "name": "stdout",
     "output_type": "stream",
     "text": [
      "The restaurant with the most reviews is 'Sowa' with 46 reviews.\n"
     ]
    }
   ],
   "source": [
    "most_reviews_restaurant = df['restaurant_name'].value_counts().idxmax()\n",
    "most_reviews_count = df['restaurant_name'].value_counts().max()\n",
    "\n",
    "print(f\"The restaurant with the most reviews is '{most_reviews_restaurant}' with {most_reviews_count} reviews.\")"
   ],
   "metadata": {
    "collapsed": false,
    "ExecuteTime": {
     "end_time": "2024-02-24T14:46:10.424807Z",
     "start_time": "2024-02-24T14:46:10.421631Z"
    }
   },
   "id": "65906f8788072bad",
   "execution_count": 159
  },
  {
   "cell_type": "markdown",
   "source": [
    "# 11. Determine the city with the highest average rating."
   ],
   "metadata": {
    "collapsed": false
   },
   "id": "bb16c355695a33d5"
  },
  {
   "cell_type": "code",
   "outputs": [
    {
     "name": "stdout",
     "output_type": "stream",
     "text": [
      "The city with the highest average rating is 'Ізяслав' with an average rating of 5.0.\n"
     ]
    }
   ],
   "source": [
    "average_rating_by_city = df.groupby('location')['rating'].mean()\n",
    "highest_avg_rating_city = average_rating_by_city.idxmax()\n",
    "highest_avg_rating = average_rating_by_city.max()\n",
    "\n",
    "print(f\"The city with the highest average rating is '{highest_avg_rating_city}' with an average rating of {highest_avg_rating}.\")"
   ],
   "metadata": {
    "collapsed": false,
    "ExecuteTime": {
     "end_time": "2024-02-24T14:46:10.851933Z",
     "start_time": "2024-02-24T14:46:10.848422Z"
    }
   },
   "id": "29dd3911b3ff8e9c",
   "execution_count": 160
  },
  {
   "cell_type": "markdown",
   "source": [
    "# 12. Save the cleaned and manipulated DataFrame to a new CSV file."
   ],
   "metadata": {
    "collapsed": false
   },
   "id": "2632a3ae3618fd2d"
  },
  {
   "cell_type": "markdown",
   "source": [],
   "metadata": {
    "collapsed": false
   },
   "id": "a09e10090fded89f"
  },
  {
   "cell_type": "code",
   "outputs": [],
   "source": [
    "df.to_csv(\"updated_restaurant_reviews.csv\")"
   ],
   "metadata": {
    "collapsed": false,
    "ExecuteTime": {
     "end_time": "2024-02-24T14:46:11.192644Z",
     "start_time": "2024-02-24T14:46:11.185745Z"
    }
   },
   "id": "4f059af9db9a3df8",
   "execution_count": 161
  },
  {
   "cell_type": "markdown",
   "source": [
    "# 13. Create a list of unique cities and save it new csv file"
   ],
   "metadata": {
    "collapsed": false
   },
   "id": "ab5ca840329ef7f8"
  },
  {
   "cell_type": "code",
   "outputs": [
    {
     "name": "stdout",
     "output_type": "stream",
     "text": [
      "         location\n",
      "0           Буськ\n",
      "1          Буринь\n",
      "2         Чигирин\n",
      "3        Курахове\n",
      "4          Сокаль\n",
      "..            ...\n",
      "307       Ужгород\n",
      "308       Рубіжне\n",
      "309       Житомир\n",
      "310       Славута\n",
      "311  Новоукраїнка\n",
      "\n",
      "[312 rows x 1 columns]\n"
     ]
    }
   ],
   "source": [
    "cities_df = pd.DataFrame.from_dict({'location': df['location'].unique()})\n",
    "print(cities_df)"
   ],
   "metadata": {
    "collapsed": false,
    "ExecuteTime": {
     "end_time": "2024-02-24T14:46:11.627092Z",
     "start_time": "2024-02-24T14:46:11.624674Z"
    }
   },
   "id": "8c7621589c6befbf",
   "execution_count": 162
  },
  {
   "cell_type": "code",
   "outputs": [],
   "source": [
    "cities_df.to_csv('cities.csv')"
   ],
   "metadata": {
    "collapsed": false,
    "ExecuteTime": {
     "end_time": "2024-02-24T14:46:26.744077Z",
     "start_time": "2024-02-24T14:46:26.736353Z"
    }
   },
   "id": "8c09b0fc63e45945",
   "execution_count": 164
  },
  {
   "cell_type": "markdown",
   "source": [
    "# Visualization (Optional)"
   ],
   "metadata": {
    "collapsed": false
   },
   "id": "408035a276dd6170"
  },
  {
   "cell_type": "markdown",
   "source": [
    "1. Plot the distribution of ratings across all reviews."
   ],
   "metadata": {
    "collapsed": false
   },
   "id": "c8ac2fe10a0bdbcd"
  },
  {
   "cell_type": "code",
   "outputs": [
    {
     "data": {
      "text/plain": "<Figure size 640x480 with 1 Axes>",
      "image/png": "[encoded data removed]"
     },
     "metadata": {},
     "output_type": "display_data"
    }
   ],
   "source": [
    "import matplotlib.pyplot as plt\n",
    "\n",
    "ratings_distribution = df['rating'].value_counts().sort_index()\n",
    "\n",
    "ratings_distribution.plot(kind='bar', rot=0, color='skyblue')\n",
    "plt.xlabel('Rating')\n",
    "plt.ylabel('Count')\n",
    "plt.title('Distribution of Ratings Across Reviews')\n",
    "plt.show()\n"
   ],
   "metadata": {
    "collapsed": false,
    "ExecuteTime": {
     "end_time": "2024-02-24T22:21:22.658092Z",
     "start_time": "2024-02-24T22:21:22.584173Z"
    }
   },
   "id": "7420e93b0071cd57",
   "execution_count": 178
  },
  {
   "cell_type": "markdown",
   "source": [
    "2. Create a time series plot showing the average rating per month."
   ],
   "metadata": {
    "collapsed": false
   },
   "id": "3a5b7beb6f2c58ae"
  },
  {
   "cell_type": "code",
   "outputs": [
    {
     "data": {
      "text/plain": "<Figure size 1800x600 with 1 Axes>",
      "image/png": "[encoded data removed]"
     },
     "metadata": {},
     "output_type": "display_data"
    }
   ],
   "source": [
    "average_rating_per_month.plot(kind='line', marker='o', figsize=(18, 6))\n",
    "plt.title('Average Rating Per Month')\n",
    "plt.xlabel('Month')\n",
    "plt.ylabel('Average Rating')\n",
    "plt.grid(True)\n",
    "plt.show()"
   ],
   "metadata": {
    "collapsed": false,
    "ExecuteTime": {
     "end_time": "2024-02-24T22:21:24.334947Z",
     "start_time": "2024-02-24T22:21:24.216769Z"
    }
   },
   "id": "85f7387ffb5ff08b",
   "execution_count": 179
  },
  {
   "cell_type": "code",
   "outputs": [],
   "source": [],
   "metadata": {
    "collapsed": false,
    "ExecuteTime": {
     "end_time": "2024-02-24T22:21:24.783856Z",
     "start_time": "2024-02-24T22:21:24.773982Z"
    }
   },
   "id": "75e11729720f8c96",
   "execution_count": 179
  },
  {
   "cell_type": "code",
   "outputs": [],
   "source": [],
   "metadata": {
    "collapsed": false
   },
   "id": "a93135b53fa3f33f"
  }
 ],
 "metadata": {
  "kernelspec": {
   "display_name": "Python 3",
   "language": "python",
   "name": "python3"
  },
  "language_info": {
   "codemirror_mode": {
    "name": "ipython",
    "version": 2
   },
   "file_extension": ".py",
   "mimetype": "text/x-python",
   "name": "python",
   "nbconvert_exporter": "python",
   "pygments_lexer": "ipython2",
   "version": "2.7.6"
  }
 },
 "nbformat": 4,
 "nbformat_minor": 5
}
